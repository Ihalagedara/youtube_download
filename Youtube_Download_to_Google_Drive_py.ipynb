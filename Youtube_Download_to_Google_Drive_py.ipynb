{
  "nbformat": 4,
  "nbformat_minor": 0,
  "metadata": {
    "colab": {
      "provenance": [],
      "include_colab_link": true
    },
    "kernelspec": {
      "name": "python3",
      "display_name": "Python 3"
    },
    "language_info": {
      "name": "python"
    }
  },
  "cells": [
    {
      "cell_type": "markdown",
      "metadata": {
        "id": "view-in-github",
        "colab_type": "text"
      },
      "source": [
        "<a href=\"https://colab.research.google.com/github/Ihalagedara/youtube_download/blob/main/Youtube_Download_to_Google_Drive_py.ipynb\" target=\"_parent\"><img src=\"https://colab.research.google.com/assets/colab-badge.svg\" alt=\"Open In Colab\"/></a>"
      ]
    },
    {
      "cell_type": "markdown",
      "source": [
        "Download a youtube vedio to googlr drive."
      ],
      "metadata": {
        "id": "SWgcsmo773kp"
      }
    },
    {
      "cell_type": "code",
      "source": [
        "from google.colab import drive\n",
        "drive.mount('/content/drive')"
      ],
      "metadata": {
        "id": "PK6fhQaW5jFT"
      },
      "execution_count": null,
      "outputs": []
    },
    {
      "cell_type": "code",
      "execution_count": null,
      "metadata": {
        "id": "zPySY5JL5YTS"
      },
      "outputs": [],
      "source": [
        "pip install pytube"
      ]
    },
    {
      "cell_type": "markdown",
      "source": [
        "Change res for the required resolution of your vedio."
      ],
      "metadata": {
        "id": "zXWz9G5f7_LK"
      }
    },
    {
      "cell_type": "code",
      "source": [
        "from pytube import YouTube\n",
        "link = str(input(\"Enter Link: \"))\n",
        "yt = YouTube(link)\n",
        "try:\n",
        "  yt.streams.filter(res=\"720p\").first().download('/content/drive/My Drive/YouTube/')\n",
        "  print(\"Sucssesfull\")\n",
        "except:\n",
        "  print(\"Faild\")"
      ],
      "metadata": {
        "colab": {
          "base_uri": "https://localhost:8080/"
        },
        "id": "_DPC2Wyg5eJT",
        "outputId": "1260be3c-127c-4e15-bcbf-14758aaa2580"
      },
      "execution_count": null,
      "outputs": [
        {
          "output_type": "stream",
          "name": "stdout",
          "text": [
            "Enter Link: https://www.youtube.com/watch?v=E9vPFQ6GW6A&list=PLWjFcjN878Y0QWcioQO02_bfn8WUWberP\n",
            "Sucssesfull\n"
          ]
        }
      ]
    }
  ]
}